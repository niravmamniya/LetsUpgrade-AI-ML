{
  "nbformat": 4,
  "nbformat_minor": 0,
  "metadata": {
    "colab": {
      "name": "Day3 Assignment.ipynb",
      "provenance": [],
      "collapsed_sections": []
    },
    "kernelspec": {
      "name": "python3",
      "display_name": "Python 3"
    }
  },
  "cells": [
    {
      "cell_type": "code",
      "metadata": {
        "id": "u_2z21SyGsUd",
        "colab_type": "code",
        "colab": {}
      },
      "source": [
        "##Answer1\n",
        "\n",
        "def sub_complex(z1,z2):\n",
        "     y = z1-z2\n",
        "     return f\"Subtraction is: {y}\""
      ],
      "execution_count": 14,
      "outputs": []
    },
    {
      "cell_type": "code",
      "metadata": {
        "id": "g5FkKo9jIH1e",
        "colab_type": "code",
        "colab": {
          "base_uri": "https://localhost:8080/",
          "height": 35
        },
        "outputId": "f56d4612-a53e-4a53-e417-f04b745d1a3d"
      },
      "source": [
        "z1 = complex(5,3)\n",
        "z2 = complex(4,5)\n",
        "\n",
        "sub_complex(z1,z2)"
      ],
      "execution_count": 15,
      "outputs": [
        {
          "output_type": "execute_result",
          "data": {
            "application/vnd.google.colaboratory.intrinsic": {
              "type": "string"
            },
            "text/plain": [
              "'Subtraction is: (1-2j)'"
            ]
          },
          "metadata": {
            "tags": []
          },
          "execution_count": 15
        }
      ]
    },
    {
      "cell_type": "code",
      "metadata": {
        "id": "Ihv5bLnAIgRI",
        "colab_type": "code",
        "colab": {}
      },
      "source": [
        "##answer 2\n",
        "def fourth_root(n):\n",
        "  return f\"The fourth root of the number is {n**0.25}\""
      ],
      "execution_count": 16,
      "outputs": []
    },
    {
      "cell_type": "code",
      "metadata": {
        "id": "oX214CCkKQFk",
        "colab_type": "code",
        "colab": {
          "base_uri": "https://localhost:8080/",
          "height": 35
        },
        "outputId": "2a1792a6-180b-4a92-ddee-998c8582c2f8"
      },
      "source": [
        "fourth_root(10000)"
      ],
      "execution_count": 17,
      "outputs": [
        {
          "output_type": "execute_result",
          "data": {
            "application/vnd.google.colaboratory.intrinsic": {
              "type": "string"
            },
            "text/plain": [
              "'The fourth root of the number is 10.0'"
            ]
          },
          "metadata": {
            "tags": []
          },
          "execution_count": 17
        }
      ]
    },
    {
      "cell_type": "code",
      "metadata": {
        "id": "tnH8_99iKTCw",
        "colab_type": "code",
        "colab": {
          "base_uri": "https://localhost:8080/",
          "height": 115
        },
        "outputId": "19658775-c1a8-4666-ba05-a57ac62eb422"
      },
      "source": [
        "##answer 3\n",
        "N1 = input('Enter N1: ')\n",
        "N2 = input('Enter N2: ')\n",
        "\n",
        "print(\"N1: \", N1)\n",
        "print(\"N1 \", N2)\n",
        "\n",
        "temp = N1\n",
        "N1 = N2\n",
        "N2 = temp\n",
        "\n",
        "print(\"Value of N1 after swapping: \", N1)\n",
        "print(\"Value of N2 after swapping: \", N2)"
      ],
      "execution_count": 18,
      "outputs": [
        {
          "output_type": "stream",
          "text": [
            "Enter N1: 5\n",
            "Enter N2: 6\n",
            "N1:  5\n",
            "N1  6\n",
            "Value of N1 after swapping:  6\n",
            "Value of N2 after swapping:  5\n"
          ],
          "name": "stdout"
        }
      ]
    },
    {
      "cell_type": "code",
      "metadata": {
        "id": "fCefVpgILlxx",
        "colab_type": "code",
        "colab": {
          "base_uri": "https://localhost:8080/",
          "height": 115
        },
        "outputId": "f2dc50a6-9bdd-42e0-bc68-90339f4f69e9"
      },
      "source": [
        "##answer 4\n",
        "N1 = input('Enter N1: ')\n",
        "N2 = input('Enter N2: ')\n",
        "\n",
        "print(\"N1: \", N1)\n",
        "print(\"N1 \", N2)\n",
        "\n",
        "N1,N2 = N2,N1\n",
        "\n",
        "print(\"Value of N1 after swapping: \", N1)\n",
        "print(\"Value of N2 after swapping: \", N2)"
      ],
      "execution_count": 19,
      "outputs": [
        {
          "output_type": "stream",
          "text": [
            "Enter N1: 5\n",
            "Enter N2: 6\n",
            "N1:  5\n",
            "N1  6\n",
            "Value of N1 after swapping:  6\n",
            "Value of N2 after swapping:  5\n"
          ],
          "name": "stdout"
        }
      ]
    },
    {
      "cell_type": "code",
      "metadata": {
        "id": "iSYM26kFLzaT",
        "colab_type": "code",
        "colab": {}
      },
      "source": [
        "##answer 5\n",
        "\n",
        "def conv_to_f(n1):\n",
        "  return f\"The F value for {n1}C is {((n1*(9/5))+32)}\"\n",
        "\n",
        "def conv_to_c(n2):\n",
        "  return f\"The C value for {n2}F is {(n2-32)*(5/9)}\""
      ],
      "execution_count": 21,
      "outputs": []
    },
    {
      "cell_type": "code",
      "metadata": {
        "id": "Na0S3XrdMktB",
        "colab_type": "code",
        "colab": {
          "base_uri": "https://localhost:8080/",
          "height": 35
        },
        "outputId": "ad4cd6ce-7aa1-4203-b1ee-7b44f50f6d8c"
      },
      "source": [
        "conv_to_c(100)"
      ],
      "execution_count": 22,
      "outputs": [
        {
          "output_type": "execute_result",
          "data": {
            "application/vnd.google.colaboratory.intrinsic": {
              "type": "string"
            },
            "text/plain": [
              "'The C value for 100F is 37.77777777777778'"
            ]
          },
          "metadata": {
            "tags": []
          },
          "execution_count": 22
        }
      ]
    },
    {
      "cell_type": "code",
      "metadata": {
        "id": "y1SdIb23MzNr",
        "colab_type": "code",
        "colab": {
          "base_uri": "https://localhost:8080/",
          "height": 35
        },
        "outputId": "3201de13-3e94-4479-869e-ccb2de6b5daa"
      },
      "source": [
        "conv_to_f(37.7777778)"
      ],
      "execution_count": 23,
      "outputs": [
        {
          "output_type": "execute_result",
          "data": {
            "application/vnd.google.colaboratory.intrinsic": {
              "type": "string"
            },
            "text/plain": [
              "'The F value for 37.7777778C is 100.00000004'"
            ]
          },
          "metadata": {
            "tags": []
          },
          "execution_count": 23
        }
      ]
    },
    {
      "cell_type": "code",
      "metadata": {
        "id": "hd_uXN3hM20l",
        "colab_type": "code",
        "colab": {
          "base_uri": "https://localhost:8080/",
          "height": 33
        },
        "outputId": "ef510226-271f-46ee-97b0-b3ddbe63d8b3"
      },
      "source": [
        "##answer 6\n",
        "type"
      ],
      "execution_count": 28,
      "outputs": [
        {
          "output_type": "execute_result",
          "data": {
            "text/plain": [
              "type"
            ]
          },
          "metadata": {
            "tags": []
          },
          "execution_count": 28
        }
      ]
    },
    {
      "cell_type": "code",
      "metadata": {
        "id": "DIipb_j0NCKX",
        "colab_type": "code",
        "colab": {
          "base_uri": "https://localhost:8080/",
          "height": 158
        },
        "outputId": "8d5541b7-5720-4796-8e8d-a2d311dafd3e"
      },
      "source": [
        "print(type())"
      ],
      "execution_count": 29,
      "outputs": [
        {
          "output_type": "error",
          "ename": "TypeError",
          "evalue": "ignored",
          "traceback": [
            "\u001b[0;31m---------------------------------------------------------------------------\u001b[0m",
            "\u001b[0;31mTypeError\u001b[0m                                 Traceback (most recent call last)",
            "\u001b[0;32m<ipython-input-29-93652874d1da>\u001b[0m in \u001b[0;36m<module>\u001b[0;34m()\u001b[0m\n\u001b[0;32m----> 1\u001b[0;31m \u001b[0mprint\u001b[0m\u001b[0;34m(\u001b[0m\u001b[0mtype\u001b[0m\u001b[0;34m(\u001b[0m\u001b[0;34m)\u001b[0m\u001b[0;34m)\u001b[0m\u001b[0;34m\u001b[0m\u001b[0;34m\u001b[0m\u001b[0m\n\u001b[0m",
            "\u001b[0;31mTypeError\u001b[0m: type() takes 1 or 3 arguments"
          ]
        }
      ]
    },
    {
      "cell_type": "code",
      "metadata": {
        "id": "Rg344ZjFNsJO",
        "colab_type": "code",
        "colab": {}
      },
      "source": [
        "##answer 7\n",
        "a=4\n",
        "b=\"hii\"\n",
        "c =True\n",
        "d = 4.5\n",
        "e = complex(4,6)\n",
        "\n",
        "list1 = [a,b,c,d,e]"
      ],
      "execution_count": 33,
      "outputs": []
    },
    {
      "cell_type": "code",
      "metadata": {
        "id": "AD5HHm-EP1Bx",
        "colab_type": "code",
        "colab": {
          "base_uri": "https://localhost:8080/",
          "height": 98
        },
        "outputId": "16386952-b9f7-4ea3-bc68-4722102e7ce8"
      },
      "source": [
        "for n in list1:\n",
        "  print(type(n))"
      ],
      "execution_count": 34,
      "outputs": [
        {
          "output_type": "stream",
          "text": [
            "<class 'int'>\n",
            "<class 'str'>\n",
            "<class 'bool'>\n",
            "<class 'float'>\n",
            "<class 'complex'>\n"
          ],
          "name": "stdout"
        }
      ]
    },
    {
      "cell_type": "code",
      "metadata": {
        "id": "3Z7TAXMrQPIO",
        "colab_type": "code",
        "colab": {}
      },
      "source": [
        "##answer 8"
      ],
      "execution_count": null,
      "outputs": []
    },
    {
      "cell_type": "markdown",
      "metadata": {
        "id": "30_kARSmQjeh",
        "colab_type": "text"
      },
      "source": [
        "1. Go to Github and sign up\n",
        "2. Click the new repository with the name LetsUpgrade AI-ML\n",
        "3. Then in your pc create a folder with Day* with Assignments Day* in it.\n",
        "4. At your github, click the repository. Then click New File, select upload folder.\n",
        "5. Select the file and tadaa!!! the files are on github\n",
        "6. for submitting, go to google docs, fill out the info and link by copying from the github."
      ]
    }
  ]
}